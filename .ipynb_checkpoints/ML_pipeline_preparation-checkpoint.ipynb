{
 "cells": [
  {
   "cell_type": "markdown",
   "metadata": {},
   "source": [
    "# ML Pipeline Preparation\n",
    "\n",
    "### 1. Import libraries and load data from database\n",
    "\n"
   ]
  },
  {
   "cell_type": "code",
   "execution_count": 1,
   "metadata": {},
   "outputs": [
    {
     "name": "stdout",
     "output_type": "stream",
     "text": [
      "[nltk_data] Downloading package punkt to /root/nltk_data...\n",
      "[nltk_data]   Unzipping tokenizers/punkt.zip.\n",
      "[nltk_data] Downloading package wordnet to /root/nltk_data...\n",
      "[nltk_data]   Unzipping corpora/wordnet.zip.\n",
      "[nltk_data] Downloading package stopwords to /root/nltk_data...\n",
      "[nltk_data]   Unzipping corpora/stopwords.zip.\n"
     ]
    },
    {
     "data": {
      "text/plain": [
       "True"
      ]
     },
     "execution_count": 1,
     "metadata": {},
     "output_type": "execute_result"
    }
   ],
   "source": [
    "import re\n",
    "import numpy as np\n",
    "import pandas as pd\n",
    "import pickle\n",
    "import matplotlib.pyplot as plt\n",
    "from sqlalchemy import create_engine\n",
    "import nltk\n",
    "from nltk.corpus import stopwords\n",
    "from nltk.stem.porter import PorterStemmer\n",
    "from nltk.stem.wordnet import WordNetLemmatizer\n",
    "import seaborn as sns\n",
    "from sklearn.pipeline import Pipeline\n",
    "from sklearn.feature_extraction.text import CountVectorizer, TfidfTransformer\n",
    "from sklearn.multioutput import MultiOutputClassifier\n",
    "from sklearn.ensemble import GradientBoostingClassifier\n",
    "from sklearn.linear_model import SGDClassifier\n",
    "from sklearn.naive_bayes import MultinomialNB, GaussianNB\n",
    "from sklearn.ensemble import AdaBoostClassifier, ExtraTreesClassifier, RandomForestClassifier\n",
    "from sklearn.metrics import  f1_score, classification_report, accuracy_score, recall_score, precision_score\n",
    "from sklearn.model_selection import train_test_split, GridSearchCV\n",
    "import warnings\n",
    "warnings.simplefilter(action='ignore', category=FutureWarning)\n",
    "\n",
    "nltk.download(['punkt','wordnet','stopwords'])"
   ]
  },
  {
   "cell_type": "code",
   "execution_count": 2,
   "metadata": {},
   "outputs": [],
   "source": [
    "engine = create_engine('sqlite:///messages.db')\n",
    "df = pd.read_sql_table('messages', engine)\n",
    "X = df['message']\n",
    "Y = df.iloc[:,4:].values"
   ]
  },
  {
   "cell_type": "code",
   "execution_count": 3,
   "metadata": {},
   "outputs": [],
   "source": [
    "# get name of classes\n",
    "labels = df.columns[4:]"
   ]
  },
  {
   "cell_type": "markdown",
   "metadata": {},
   "source": [
    "### 2. Write a tokenization function to process your text data"
   ]
  },
  {
   "cell_type": "code",
   "execution_count": 229,
   "metadata": {},
   "outputs": [],
   "source": [
    "def tokenize(text):\n",
    "    \n",
    "    # Normalization\n",
    "    text = text.lower()\n",
    "    text = re.sub(r\"[^a-zA-Z]\", \" \", text) \n",
    "\n",
    "    # Tokenize\n",
    "    words = nltk.word_tokenize(text)\n",
    "    \n",
    "    # Remove Stopwords\n",
    "    words = [w for w in words if w not in stopwords.words('english')]\n",
    "\n",
    "    # Lemmatization\n",
    "    lemmatizer = WordNetLemmatizer()\n",
    "    lemmed = [lemmatizer.lemmatize(w).strip() for w in words]\n",
    "        \n",
    "    return lemmed"
   ]
  },
  {
   "cell_type": "markdown",
   "metadata": {},
   "source": [
    "### 3. Build a machine learning pipeline\n",
    "This machine pipeline take in the `message` column as input and output classification results on the other 36 categories in the dataset. You may find the [MultiOutputClassifier](http://scikit-learn.org/stable/modules/generated/sklearn.multioutput.MultiOutputClassifier.html) helpful for predicting multiple target variables."
   ]
  },
  {
   "cell_type": "code",
   "execution_count": 230,
   "metadata": {},
   "outputs": [],
   "source": [
    "pipeline = Pipeline([\n",
    "        ('vect',CountVectorizer(tokenizer=tokenize)),\n",
    "        ('tfidf', TfidfTransformer()),\n",
    "        ('clf', MultiOutputClassifier(MultinomialNB())),\n",
    "])"
   ]
  },
  {
   "cell_type": "markdown",
   "metadata": {},
   "source": [
    "### 4. Train pipeline\n",
    "- Split data into train and test sets\n",
    "- Train pipeline"
   ]
  },
  {
   "cell_type": "code",
   "execution_count": 231,
   "metadata": {},
   "outputs": [],
   "source": [
    "X_train, X_test, y_train, y_test = train_test_split(X, Y, test_size=0.3, random_state=0)"
   ]
  },
  {
   "cell_type": "code",
   "execution_count": 232,
   "metadata": {},
   "outputs": [
    {
     "name": "stdout",
     "output_type": "stream",
     "text": [
      "CPU times: user 1min 11s, sys: 5.86 s, total: 1min 17s\n",
      "Wall time: 1min 18s\n"
     ]
    },
    {
     "data": {
      "text/plain": [
       "Pipeline(memory=None,\n",
       "     steps=[('vect', CountVectorizer(analyzer='word', binary=False, decode_error='strict',\n",
       "        dtype=<class 'numpy.int64'>, encoding='utf-8', input='content',\n",
       "        lowercase=True, max_df=1.0, max_features=None, min_df=1,\n",
       "        ngram_range=(1, 1), preprocessor=None, stop_words=None,\n",
       "        strip...ssifier(estimator=MultinomialNB(alpha=1.0, class_prior=None, fit_prior=True),\n",
       "           n_jobs=1))])"
      ]
     },
     "execution_count": 232,
     "metadata": {},
     "output_type": "execute_result"
    }
   ],
   "source": [
    "%%time\n",
    "pipeline.fit(X_train, y_train)"
   ]
  },
  {
   "cell_type": "markdown",
   "metadata": {},
   "source": [
    "### 5. Test your model\n",
    "Report the f1 score, precision and recall for each output category of the dataset."
   ]
  },
  {
   "cell_type": "code",
   "execution_count": 233,
   "metadata": {},
   "outputs": [],
   "source": [
    "def evaluate_model(y_true, y_pred, model_name):\n",
    "    acc = accuracy_score(y_true, y_pred)\n",
    "    recall = recall_score(y_true, y_pred, average='weighted')\n",
    "    prec = precision_score(y_true, y_pred, average='weighted')\n",
    "    f1 = f1_score(y_true, y_pred, average='weighted')\n",
    "    print('[{0}]Accuracy:{1:.2f} [{0}]Recall:{2:.2f} [{0}]Precision:{3:.2f} [{0}]F1_score:{4:.2f}\\n' \\\n",
    "            .format(model_name, acc, recall, prec, f1))\n",
    "    #print(classification_report(y_true, y_pred))"
   ]
  },
  {
   "cell_type": "code",
   "execution_count": 234,
   "metadata": {},
   "outputs": [],
   "source": [
    "y_preds = pipeline.predict(X_test)"
   ]
  },
  {
   "cell_type": "code",
   "execution_count": 235,
   "metadata": {
    "scrolled": true
   },
   "outputs": [
    {
     "name": "stdout",
     "output_type": "stream",
     "text": [
      "RELATED\n",
      "[NB]Accuracy:0.78 [NB]Recall:0.78 [NB]Precision:0.78 [NB]F1_score:0.70\n",
      "\n",
      "REQUEST\n",
      "[NB]Accuracy:0.86 [NB]Recall:0.86 [NB]Precision:0.86 [NB]F1_score:0.83\n",
      "\n",
      "OFFER\n",
      "[NB]Accuracy:0.99 [NB]Recall:0.99 [NB]Precision:0.99 [NB]F1_score:0.99\n",
      "\n",
      "AID_RELATED\n",
      "[NB]Accuracy:0.76 [NB]Recall:0.76 [NB]Precision:0.76 [NB]F1_score:0.75\n",
      "\n",
      "MEDICAL_HELP\n",
      "[NB]Accuracy:0.92 [NB]Recall:0.92 [NB]Precision:0.89 [NB]F1_score:0.89\n",
      "\n",
      "MEDICAL_PRODUCTS\n",
      "[NB]Accuracy:0.95 [NB]Recall:0.95 [NB]Precision:0.95 [NB]F1_score:0.93\n",
      "\n",
      "SEARCH_AND_RESCUE\n",
      "[NB]Accuracy:0.98 [NB]Recall:0.98 [NB]Precision:0.95 [NB]F1_score:0.96\n",
      "\n",
      "SECURITY\n",
      "[NB]Accuracy:0.98 [NB]Recall:0.98 [NB]Precision:0.97 [NB]F1_score:0.97\n",
      "\n",
      "MILITARY\n",
      "[NB]Accuracy:0.97 [NB]Recall:0.97 [NB]Precision:0.93 [NB]F1_score:0.95\n",
      "\n",
      "WATER\n",
      "[NB]Accuracy:0.94 [NB]Recall:0.94 [NB]Precision:0.88 [NB]F1_score:0.91\n",
      "\n",
      "FOOD\n",
      "[NB]Accuracy:0.89 [NB]Recall:0.89 [NB]Precision:0.89 [NB]F1_score:0.84\n",
      "\n",
      "SHELTER\n",
      "[NB]Accuracy:0.92 [NB]Recall:0.92 [NB]Precision:0.92 [NB]F1_score:0.88\n",
      "\n",
      "CLOTHING\n",
      "[NB]Accuracy:0.98 [NB]Recall:0.98 [NB]Precision:0.97 [NB]F1_score:0.98\n",
      "\n",
      "MONEY\n",
      "[NB]Accuracy:0.98 [NB]Recall:0.98 [NB]Precision:0.95 [NB]F1_score:0.97\n",
      "\n",
      "MISSING_PEOPLE\n",
      "[NB]Accuracy:0.99 [NB]Recall:0.99 [NB]Precision:0.98 [NB]F1_score:0.99\n",
      "\n",
      "REFUGEES\n",
      "[NB]Accuracy:0.97 [NB]Recall:0.97 [NB]Precision:0.94 [NB]F1_score:0.95\n",
      "\n",
      "DEATH\n",
      "[NB]Accuracy:0.95 [NB]Recall:0.95 [NB]Precision:0.91 [NB]F1_score:0.93\n",
      "\n",
      "OTHER_AID\n",
      "[NB]Accuracy:0.87 [NB]Recall:0.87 [NB]Precision:0.76 [NB]F1_score:0.81\n",
      "\n",
      "INFRASTRUCTURE_RELATED\n",
      "[NB]Accuracy:0.93 [NB]Recall:0.93 [NB]Precision:0.87 [NB]F1_score:0.90\n",
      "\n",
      "TRANSPORT\n",
      "[NB]Accuracy:0.95 [NB]Recall:0.95 [NB]Precision:0.91 [NB]F1_score:0.93\n",
      "\n",
      "BUILDINGS\n",
      "[NB]Accuracy:0.95 [NB]Recall:0.95 [NB]Precision:0.90 [NB]F1_score:0.93\n",
      "\n",
      "ELECTRICITY\n",
      "[NB]Accuracy:0.98 [NB]Recall:0.98 [NB]Precision:0.96 [NB]F1_score:0.97\n",
      "\n",
      "TOOLS\n",
      "[NB]Accuracy:1.00 [NB]Recall:1.00 [NB]Precision:0.99 [NB]F1_score:0.99\n",
      "\n",
      "HOSPITALS\n",
      "[NB]Accuracy:0.99 [NB]Recall:0.99 [NB]Precision:0.98 [NB]F1_score:0.98\n",
      "\n",
      "SHOPS\n",
      "[NB]Accuracy:1.00 [NB]Recall:1.00 [NB]Precision:0.99 [NB]F1_score:0.99\n",
      "\n",
      "AID_CENTERS\n",
      "[NB]Accuracy:0.99 [NB]Recall:0.99 [NB]Precision:0.98 [NB]F1_score:0.98\n",
      "\n",
      "OTHER_INFRASTRUCTURE\n",
      "[NB]Accuracy:0.96 [NB]Recall:0.96 [NB]Precision:0.91 [NB]F1_score:0.93\n",
      "\n",
      "WEATHER_RELATED\n",
      "[NB]Accuracy:0.82 [NB]Recall:0.82 [NB]Precision:0.83 [NB]F1_score:0.80\n",
      "\n",
      "FLOODS\n",
      "[NB]Accuracy:0.92 [NB]Recall:0.92 [NB]Precision:0.88 [NB]F1_score:0.88\n",
      "\n",
      "STORM\n",
      "[NB]Accuracy:0.91 [NB]Recall:0.91 [NB]Precision:0.92 [NB]F1_score:0.87\n",
      "\n",
      "FIRE\n",
      "[NB]Accuracy:0.99 [NB]Recall:0.99 [NB]Precision:0.98 [NB]F1_score:0.98\n",
      "\n",
      "EARTHQUAKE\n",
      "[NB]Accuracy:0.92 [NB]Recall:0.92 [NB]Precision:0.92 [NB]F1_score:0.88\n",
      "\n",
      "COLD\n",
      "[NB]Accuracy:0.98 [NB]Recall:0.98 [NB]Precision:0.96 [NB]F1_score:0.97\n",
      "\n",
      "OTHER_WEATHER\n",
      "[NB]Accuracy:0.94 [NB]Recall:0.94 [NB]Precision:0.89 [NB]F1_score:0.92\n",
      "\n",
      "DIRECT_REPORT\n",
      "[NB]Accuracy:0.83 [NB]Recall:0.83 [NB]Precision:0.82 [NB]F1_score:0.78\n",
      "\n"
     ]
    },
    {
     "name": "stderr",
     "output_type": "stream",
     "text": [
      "/opt/conda/lib/python3.6/site-packages/sklearn/metrics/classification.py:1135: UndefinedMetricWarning:\n",
      "\n",
      "Precision is ill-defined and being set to 0.0 in labels with no predicted samples.\n",
      "\n",
      "/opt/conda/lib/python3.6/site-packages/sklearn/metrics/classification.py:1135: UndefinedMetricWarning:\n",
      "\n",
      "F-score is ill-defined and being set to 0.0 in labels with no predicted samples.\n",
      "\n"
     ]
    }
   ],
   "source": [
    "# evaluate model\n",
    "for i in range(len(labels)):\n",
    "    print(labels[i].upper())\n",
    "    evaluate_model(y_test[:, i],y_preds[:, i], 'NB')\n",
    "    #print(classification_report(y_test[:, i],y_preds[:, i]))"
   ]
  },
  {
   "cell_type": "code",
   "execution_count": 236,
   "metadata": {},
   "outputs": [
    {
     "name": "stdout",
     "output_type": "stream",
     "text": [
      "RELATED\n",
      "[NB-train]Accuracy:0.81 [NB-train]Recall:0.81 [NB-train]Precision:0.83 [NB-train]F1_score:0.76\n",
      "\n",
      "REQUEST\n",
      "[NB-train]Accuracy:0.88 [NB-train]Recall:0.88 [NB-train]Precision:0.88 [NB-train]F1_score:0.85\n",
      "\n",
      "OFFER\n",
      "[NB-train]Accuracy:1.00 [NB-train]Recall:1.00 [NB-train]Precision:0.99 [NB-train]F1_score:0.99\n",
      "\n",
      "AID_RELATED\n",
      "[NB-train]Accuracy:0.84 [NB-train]Recall:0.84 [NB-train]Precision:0.84 [NB-train]F1_score:0.84\n",
      "\n",
      "MEDICAL_HELP\n",
      "[NB-train]Accuracy:0.92 [NB-train]Recall:0.92 [NB-train]Precision:0.89 [NB-train]F1_score:0.88\n",
      "\n",
      "MEDICAL_PRODUCTS\n",
      "[NB-train]Accuracy:0.95 [NB-train]Recall:0.95 [NB-train]Precision:0.91 [NB-train]F1_score:0.92\n",
      "\n",
      "SEARCH_AND_RESCUE\n",
      "[NB-train]Accuracy:0.97 [NB-train]Recall:0.97 [NB-train]Precision:0.94 [NB-train]F1_score:0.96\n",
      "\n",
      "SECURITY\n",
      "[NB-train]Accuracy:0.98 [NB-train]Recall:0.98 [NB-train]Precision:0.96 [NB-train]F1_score:0.97\n",
      "\n",
      "MILITARY\n",
      "[NB-train]Accuracy:0.97 [NB-train]Recall:0.97 [NB-train]Precision:0.95 [NB-train]F1_score:0.95\n",
      "\n",
      "WATER\n",
      "[NB-train]Accuracy:0.94 [NB-train]Recall:0.94 [NB-train]Precision:0.89 [NB-train]F1_score:0.90\n",
      "\n",
      "FOOD\n",
      "[NB-train]Accuracy:0.89 [NB-train]Recall:0.89 [NB-train]Precision:0.89 [NB-train]F1_score:0.85\n",
      "\n",
      "SHELTER\n",
      "[NB-train]Accuracy:0.91 [NB-train]Recall:0.91 [NB-train]Precision:0.89 [NB-train]F1_score:0.87\n",
      "\n",
      "CLOTHING\n",
      "[NB-train]Accuracy:0.98 [NB-train]Recall:0.98 [NB-train]Precision:0.97 [NB-train]F1_score:0.98\n",
      "\n",
      "MONEY\n",
      "[NB-train]Accuracy:0.98 [NB-train]Recall:0.98 [NB-train]Precision:0.95 [NB-train]F1_score:0.97\n",
      "\n",
      "MISSING_PEOPLE\n",
      "[NB-train]Accuracy:0.99 [NB-train]Recall:0.99 [NB-train]Precision:0.98 [NB-train]F1_score:0.98\n",
      "\n",
      "REFUGEES\n",
      "[NB-train]Accuracy:0.97 [NB-train]Recall:0.97 [NB-train]Precision:0.93 [NB-train]F1_score:0.95\n",
      "\n",
      "DEATH\n",
      "[NB-train]Accuracy:0.95 [NB-train]Recall:0.95 [NB-train]Precision:0.91 [NB-train]F1_score:0.93\n",
      "\n",
      "OTHER_AID\n"
     ]
    },
    {
     "name": "stderr",
     "output_type": "stream",
     "text": [
      "/opt/conda/lib/python3.6/site-packages/sklearn/metrics/classification.py:1135: UndefinedMetricWarning:\n",
      "\n",
      "Precision is ill-defined and being set to 0.0 in labels with no predicted samples.\n",
      "\n",
      "/opt/conda/lib/python3.6/site-packages/sklearn/metrics/classification.py:1135: UndefinedMetricWarning:\n",
      "\n",
      "F-score is ill-defined and being set to 0.0 in labels with no predicted samples.\n",
      "\n"
     ]
    },
    {
     "name": "stdout",
     "output_type": "stream",
     "text": [
      "[NB-train]Accuracy:0.87 [NB-train]Recall:0.87 [NB-train]Precision:0.78 [NB-train]F1_score:0.81\n",
      "\n",
      "INFRASTRUCTURE_RELATED\n",
      "[NB-train]Accuracy:0.93 [NB-train]Recall:0.93 [NB-train]Precision:0.87 [NB-train]F1_score:0.90\n",
      "\n",
      "TRANSPORT\n",
      "[NB-train]Accuracy:0.95 [NB-train]Recall:0.95 [NB-train]Precision:0.91 [NB-train]F1_score:0.93\n",
      "\n",
      "BUILDINGS\n",
      "[NB-train]Accuracy:0.95 [NB-train]Recall:0.95 [NB-train]Precision:0.90 [NB-train]F1_score:0.92\n",
      "\n",
      "ELECTRICITY\n",
      "[NB-train]Accuracy:0.98 [NB-train]Recall:0.98 [NB-train]Precision:0.96 [NB-train]F1_score:0.97\n",
      "\n",
      "TOOLS\n",
      "[NB-train]Accuracy:0.99 [NB-train]Recall:0.99 [NB-train]Precision:0.99 [NB-train]F1_score:0.99\n",
      "\n",
      "HOSPITALS\n",
      "[NB-train]Accuracy:0.99 [NB-train]Recall:0.99 [NB-train]Precision:0.98 [NB-train]F1_score:0.98\n",
      "\n",
      "SHOPS\n",
      "[NB-train]Accuracy:1.00 [NB-train]Recall:1.00 [NB-train]Precision:0.99 [NB-train]F1_score:0.99\n",
      "\n",
      "AID_CENTERS\n",
      "[NB-train]Accuracy:0.99 [NB-train]Recall:0.99 [NB-train]Precision:0.98 [NB-train]F1_score:0.98\n",
      "\n",
      "OTHER_INFRASTRUCTURE\n",
      "[NB-train]Accuracy:0.96 [NB-train]Recall:0.96 [NB-train]Precision:0.91 [NB-train]F1_score:0.93\n",
      "\n",
      "WEATHER_RELATED\n",
      "[NB-train]Accuracy:0.86 [NB-train]Recall:0.86 [NB-train]Precision:0.86 [NB-train]F1_score:0.84\n",
      "\n",
      "FLOODS\n",
      "[NB-train]Accuracy:0.92 [NB-train]Recall:0.92 [NB-train]Precision:0.91 [NB-train]F1_score:0.88\n",
      "\n",
      "STORM\n",
      "[NB-train]Accuracy:0.91 [NB-train]Recall:0.91 [NB-train]Precision:0.91 [NB-train]F1_score:0.88\n",
      "\n",
      "FIRE\n",
      "[NB-train]Accuracy:0.99 [NB-train]Recall:0.99 [NB-train]Precision:0.98 [NB-train]F1_score:0.98\n",
      "\n",
      "EARTHQUAKE\n",
      "[NB-train]Accuracy:0.92 [NB-train]Recall:0.92 [NB-train]Precision:0.92 [NB-train]F1_score:0.89\n",
      "\n",
      "COLD\n",
      "[NB-train]Accuracy:0.98 [NB-train]Recall:0.98 [NB-train]Precision:0.96 [NB-train]F1_score:0.97\n",
      "\n",
      "OTHER_WEATHER\n",
      "[NB-train]Accuracy:0.95 [NB-train]Recall:0.95 [NB-train]Precision:0.91 [NB-train]F1_score:0.92\n",
      "\n",
      "DIRECT_REPORT\n",
      "[NB-train]Accuracy:0.85 [NB-train]Recall:0.85 [NB-train]Precision:0.86 [NB-train]F1_score:0.82\n",
      "\n"
     ]
    }
   ],
   "source": [
    "# evaluate on train set to check for overfitting\n",
    "y_preds_train = pipeline.predict(X_train)\n",
    "for i in range(len(labels)):\n",
    "    print(labels[i].upper())\n",
    "    evaluate_model(y_train[:, i],y_preds_train[:, i], 'NB-train')"
   ]
  },
  {
   "cell_type": "markdown",
   "metadata": {},
   "source": [
    "### 6. Improve your model\n",
    "Use grid search to find better parameters. "
   ]
  },
  {
   "cell_type": "code",
   "execution_count": 239,
   "metadata": {},
   "outputs": [
    {
     "data": {
      "text/plain": [
       "dict_keys(['memory', 'steps', 'vect', 'tfidf', 'clf', 'vect__analyzer', 'vect__binary', 'vect__decode_error', 'vect__dtype', 'vect__encoding', 'vect__input', 'vect__lowercase', 'vect__max_df', 'vect__max_features', 'vect__min_df', 'vect__ngram_range', 'vect__preprocessor', 'vect__stop_words', 'vect__strip_accents', 'vect__token_pattern', 'vect__tokenizer', 'vect__vocabulary', 'tfidf__norm', 'tfidf__smooth_idf', 'tfidf__sublinear_tf', 'tfidf__use_idf', 'clf__estimator__alpha', 'clf__estimator__class_prior', 'clf__estimator__fit_prior', 'clf__estimator', 'clf__n_jobs'])"
      ]
     },
     "execution_count": 239,
     "metadata": {},
     "output_type": "execute_result"
    }
   ],
   "source": [
    "cv.estimator.get_params().keys()"
   ]
  },
  {
   "cell_type": "code",
   "execution_count": 240,
   "metadata": {},
   "outputs": [
    {
     "name": "stdout",
     "output_type": "stream",
     "text": [
      "Fitting 3 folds for each of 6 candidates, totalling 18 fits\n",
      "[CV] clf__estimator__alpha=0.5, clf__estimator__fit_prior=True .......\n"
     ]
    },
    {
     "name": "stderr",
     "output_type": "stream",
     "text": [
      "/opt/conda/lib/python3.6/site-packages/sklearn/metrics/classification.py:1135: UndefinedMetricWarning:\n",
      "\n",
      "F-score is ill-defined and being set to 0.0 in labels with no predicted samples.\n",
      "\n"
     ]
    },
    {
     "name": "stdout",
     "output_type": "stream",
     "text": [
      "[CV]  clf__estimator__alpha=0.5, clf__estimator__fit_prior=True, score=0.42432332937896, total= 1.3min\n",
      "[CV] clf__estimator__alpha=0.5, clf__estimator__fit_prior=True .......\n"
     ]
    },
    {
     "name": "stderr",
     "output_type": "stream",
     "text": [
      "[Parallel(n_jobs=1)]: Done   1 out of   1 | elapsed:  2.2min remaining:    0.0s\n",
      "/opt/conda/lib/python3.6/site-packages/sklearn/metrics/classification.py:1135: UndefinedMetricWarning:\n",
      "\n",
      "F-score is ill-defined and being set to 0.0 in labels with no predicted samples.\n",
      "\n"
     ]
    },
    {
     "name": "stdout",
     "output_type": "stream",
     "text": [
      "[CV]  clf__estimator__alpha=0.5, clf__estimator__fit_prior=True, score=0.427523262446678, total= 1.3min\n",
      "[CV] clf__estimator__alpha=0.5, clf__estimator__fit_prior=True .......\n"
     ]
    },
    {
     "name": "stderr",
     "output_type": "stream",
     "text": [
      "[Parallel(n_jobs=1)]: Done   2 out of   2 | elapsed:  4.4min remaining:    0.0s\n",
      "/opt/conda/lib/python3.6/site-packages/sklearn/metrics/classification.py:1135: UndefinedMetricWarning:\n",
      "\n",
      "F-score is ill-defined and being set to 0.0 in labels with no predicted samples.\n",
      "\n"
     ]
    },
    {
     "name": "stdout",
     "output_type": "stream",
     "text": [
      "[CV]  clf__estimator__alpha=0.5, clf__estimator__fit_prior=True, score=0.42509663424052546, total= 1.3min\n",
      "[CV] clf__estimator__alpha=0.5, clf__estimator__fit_prior=False ......\n",
      "[CV]  clf__estimator__alpha=0.5, clf__estimator__fit_prior=False, score=0.5485838111599952, total= 1.3min\n",
      "[CV] clf__estimator__alpha=0.5, clf__estimator__fit_prior=False ......\n",
      "[CV]  clf__estimator__alpha=0.5, clf__estimator__fit_prior=False, score=0.5553410806381147, total= 1.3min\n",
      "[CV] clf__estimator__alpha=0.5, clf__estimator__fit_prior=False ......\n",
      "[CV]  clf__estimator__alpha=0.5, clf__estimator__fit_prior=False, score=0.5529338520373385, total= 1.3min\n",
      "[CV] clf__estimator__alpha=0.7, clf__estimator__fit_prior=True .......\n"
     ]
    },
    {
     "name": "stderr",
     "output_type": "stream",
     "text": [
      "/opt/conda/lib/python3.6/site-packages/sklearn/metrics/classification.py:1135: UndefinedMetricWarning:\n",
      "\n",
      "F-score is ill-defined and being set to 0.0 in labels with no predicted samples.\n",
      "\n"
     ]
    },
    {
     "name": "stdout",
     "output_type": "stream",
     "text": [
      "[CV]  clf__estimator__alpha=0.7, clf__estimator__fit_prior=True, score=0.40356563203729623, total= 1.3min\n",
      "[CV] clf__estimator__alpha=0.7, clf__estimator__fit_prior=True .......\n"
     ]
    },
    {
     "name": "stderr",
     "output_type": "stream",
     "text": [
      "/opt/conda/lib/python3.6/site-packages/sklearn/metrics/classification.py:1135: UndefinedMetricWarning:\n",
      "\n",
      "F-score is ill-defined and being set to 0.0 in labels with no predicted samples.\n",
      "\n"
     ]
    },
    {
     "name": "stdout",
     "output_type": "stream",
     "text": [
      "[CV]  clf__estimator__alpha=0.7, clf__estimator__fit_prior=True, score=0.4063683993090031, total= 1.3min\n",
      "[CV] clf__estimator__alpha=0.7, clf__estimator__fit_prior=True .......\n"
     ]
    },
    {
     "name": "stderr",
     "output_type": "stream",
     "text": [
      "/opt/conda/lib/python3.6/site-packages/sklearn/metrics/classification.py:1135: UndefinedMetricWarning:\n",
      "\n",
      "F-score is ill-defined and being set to 0.0 in labels with no predicted samples.\n",
      "\n"
     ]
    },
    {
     "name": "stdout",
     "output_type": "stream",
     "text": [
      "[CV]  clf__estimator__alpha=0.7, clf__estimator__fit_prior=True, score=0.4054391866030226, total= 1.3min\n",
      "[CV] clf__estimator__alpha=0.7, clf__estimator__fit_prior=False ......\n",
      "[CV]  clf__estimator__alpha=0.7, clf__estimator__fit_prior=False, score=0.5310054543547935, total= 1.3min\n",
      "[CV] clf__estimator__alpha=0.7, clf__estimator__fit_prior=False ......\n",
      "[CV]  clf__estimator__alpha=0.7, clf__estimator__fit_prior=False, score=0.5368838831905199, total= 1.3min\n",
      "[CV] clf__estimator__alpha=0.7, clf__estimator__fit_prior=False ......\n",
      "[CV]  clf__estimator__alpha=0.7, clf__estimator__fit_prior=False, score=0.5335136254582041, total= 1.3min\n",
      "[CV] clf__estimator__alpha=1.0, clf__estimator__fit_prior=True .......\n"
     ]
    },
    {
     "name": "stderr",
     "output_type": "stream",
     "text": [
      "/opt/conda/lib/python3.6/site-packages/sklearn/metrics/classification.py:1135: UndefinedMetricWarning:\n",
      "\n",
      "F-score is ill-defined and being set to 0.0 in labels with no predicted samples.\n",
      "\n"
     ]
    },
    {
     "name": "stdout",
     "output_type": "stream",
     "text": [
      "[CV]  clf__estimator__alpha=1.0, clf__estimator__fit_prior=True, score=0.38252428561332197, total= 1.3min\n",
      "[CV] clf__estimator__alpha=1.0, clf__estimator__fit_prior=True .......\n"
     ]
    },
    {
     "name": "stderr",
     "output_type": "stream",
     "text": [
      "/opt/conda/lib/python3.6/site-packages/sklearn/metrics/classification.py:1135: UndefinedMetricWarning:\n",
      "\n",
      "F-score is ill-defined and being set to 0.0 in labels with no predicted samples.\n",
      "\n"
     ]
    },
    {
     "name": "stdout",
     "output_type": "stream",
     "text": [
      "[CV]  clf__estimator__alpha=1.0, clf__estimator__fit_prior=True, score=0.3864090132550835, total= 1.3min\n",
      "[CV] clf__estimator__alpha=1.0, clf__estimator__fit_prior=True .......\n"
     ]
    },
    {
     "name": "stderr",
     "output_type": "stream",
     "text": [
      "/opt/conda/lib/python3.6/site-packages/sklearn/metrics/classification.py:1135: UndefinedMetricWarning:\n",
      "\n",
      "F-score is ill-defined and being set to 0.0 in labels with no predicted samples.\n",
      "\n"
     ]
    },
    {
     "name": "stdout",
     "output_type": "stream",
     "text": [
      "[CV]  clf__estimator__alpha=1.0, clf__estimator__fit_prior=True, score=0.38287483666463784, total= 1.3min\n",
      "[CV] clf__estimator__alpha=1.0, clf__estimator__fit_prior=False ......\n",
      "[CV]  clf__estimator__alpha=1.0, clf__estimator__fit_prior=False, score=0.5101624981581948, total= 1.3min\n",
      "[CV] clf__estimator__alpha=1.0, clf__estimator__fit_prior=False ......\n",
      "[CV]  clf__estimator__alpha=1.0, clf__estimator__fit_prior=False, score=0.5157069249728614, total= 1.3min\n",
      "[CV] clf__estimator__alpha=1.0, clf__estimator__fit_prior=False ......\n",
      "[CV]  clf__estimator__alpha=1.0, clf__estimator__fit_prior=False, score=0.5112901356661392, total= 1.3min\n"
     ]
    },
    {
     "name": "stderr",
     "output_type": "stream",
     "text": [
      "[Parallel(n_jobs=1)]: Done  18 out of  18 | elapsed: 39.1min finished\n"
     ]
    },
    {
     "name": "stdout",
     "output_type": "stream",
     "text": [
      "CPU times: user 37min 8s, sys: 2min 56s, total: 40min 4s\n",
      "Wall time: 40min 21s\n"
     ]
    }
   ],
   "source": [
    "%%time\n",
    "parameters = {\n",
    "     'clf__estimator__fit_prior': [True, False],\n",
    "     'clf__estimator__alpha': [0.5, 0.7, 1.0],\n",
    "}\n",
    "\n",
    "cv = GridSearchCV(pipeline, param_grid=parameters, verbose=3, scoring='f1_weighted')\n",
    "cv.fit(X_train, y_train)"
   ]
  },
  {
   "cell_type": "markdown",
   "metadata": {},
   "source": [
    "### 7. Test your model\n",
    "Show the accuracy, precision, and recall of the tuned model.  \n"
   ]
  },
  {
   "cell_type": "code",
   "execution_count": 242,
   "metadata": {},
   "outputs": [
    {
     "name": "stdout",
     "output_type": "stream",
     "text": [
      "CPU times: user 1min 43s, sys: 8.2 s, total: 1min 51s\n",
      "Wall time: 1min 52s\n"
     ]
    }
   ],
   "source": [
    "%%time\n",
    "y_preds_best = cv.predict(X_test)\n",
    "y_preds_best_train = cv.predict(X_train)"
   ]
  },
  {
   "cell_type": "code",
   "execution_count": 241,
   "metadata": {},
   "outputs": [
    {
     "data": {
      "text/plain": [
       "MultiOutputClassifier(estimator=MultinomialNB(alpha=0.5, class_prior=None, fit_prior=False),\n",
       "           n_jobs=1)"
      ]
     },
     "execution_count": 241,
     "metadata": {},
     "output_type": "execute_result"
    }
   ],
   "source": [
    "best_model = cv.best_estimator_.steps[2][1]\n",
    "best_model"
   ]
  },
  {
   "cell_type": "code",
   "execution_count": 243,
   "metadata": {},
   "outputs": [
    {
     "name": "stdout",
     "output_type": "stream",
     "text": [
      "RELATED\n",
      "[NB-tuned]Accuracy:0.82 [NB-tuned]Recall:0.82 [NB-tuned]Precision:0.82 [NB-tuned]F1_score:0.82\n",
      "\n",
      "REQUEST\n",
      "[NB-tuned]Accuracy:0.86 [NB-tuned]Recall:0.86 [NB-tuned]Precision:0.87 [NB-tuned]F1_score:0.87\n",
      "\n",
      "OFFER\n",
      "[NB-tuned]Accuracy:0.99 [NB-tuned]Recall:0.99 [NB-tuned]Precision:0.99 [NB-tuned]F1_score:0.99\n",
      "\n",
      "AID_RELATED\n",
      "[NB-tuned]Accuracy:0.74 [NB-tuned]Recall:0.74 [NB-tuned]Precision:0.75 [NB-tuned]F1_score:0.74\n",
      "\n",
      "MEDICAL_HELP\n",
      "[NB-tuned]Accuracy:0.90 [NB-tuned]Recall:0.90 [NB-tuned]Precision:0.90 [NB-tuned]F1_score:0.90\n",
      "\n",
      "MEDICAL_PRODUCTS\n",
      "[NB-tuned]Accuracy:0.93 [NB-tuned]Recall:0.93 [NB-tuned]Precision:0.93 [NB-tuned]F1_score:0.93\n",
      "\n",
      "SEARCH_AND_RESCUE\n",
      "[NB-tuned]Accuracy:0.96 [NB-tuned]Recall:0.96 [NB-tuned]Precision:0.95 [NB-tuned]F1_score:0.96\n",
      "\n",
      "SECURITY\n",
      "[NB-tuned]Accuracy:0.97 [NB-tuned]Recall:0.97 [NB-tuned]Precision:0.97 [NB-tuned]F1_score:0.97\n",
      "\n",
      "MILITARY\n",
      "[NB-tuned]Accuracy:0.96 [NB-tuned]Recall:0.96 [NB-tuned]Precision:0.96 [NB-tuned]F1_score:0.96\n",
      "\n",
      "WATER\n",
      "[NB-tuned]Accuracy:0.92 [NB-tuned]Recall:0.92 [NB-tuned]Precision:0.91 [NB-tuned]F1_score:0.92\n",
      "\n",
      "FOOD\n",
      "[NB-tuned]Accuracy:0.89 [NB-tuned]Recall:0.89 [NB-tuned]Precision:0.89 [NB-tuned]F1_score:0.89\n",
      "\n",
      "SHELTER\n",
      "[NB-tuned]Accuracy:0.90 [NB-tuned]Recall:0.90 [NB-tuned]Precision:0.89 [NB-tuned]F1_score:0.89\n",
      "\n",
      "CLOTHING\n",
      "[NB-tuned]Accuracy:0.97 [NB-tuned]Recall:0.97 [NB-tuned]Precision:0.98 [NB-tuned]F1_score:0.98\n",
      "\n",
      "MONEY\n",
      "[NB-tuned]Accuracy:0.96 [NB-tuned]Recall:0.96 [NB-tuned]Precision:0.96 [NB-tuned]F1_score:0.96\n",
      "\n",
      "MISSING_PEOPLE\n",
      "[NB-tuned]Accuracy:0.98 [NB-tuned]Recall:0.98 [NB-tuned]Precision:0.98 [NB-tuned]F1_score:0.98\n",
      "\n",
      "REFUGEES\n",
      "[NB-tuned]Accuracy:0.96 [NB-tuned]Recall:0.96 [NB-tuned]Precision:0.95 [NB-tuned]F1_score:0.95\n",
      "\n",
      "DEATH\n",
      "[NB-tuned]Accuracy:0.94 [NB-tuned]Recall:0.94 [NB-tuned]Precision:0.94 [NB-tuned]F1_score:0.94\n",
      "\n",
      "OTHER_AID\n",
      "[NB-tuned]Accuracy:0.84 [NB-tuned]Recall:0.84 [NB-tuned]Precision:0.80 [NB-tuned]F1_score:0.82\n",
      "\n",
      "INFRASTRUCTURE_RELATED\n",
      "[NB-tuned]Accuracy:0.91 [NB-tuned]Recall:0.91 [NB-tuned]Precision:0.88 [NB-tuned]F1_score:0.89\n",
      "\n",
      "TRANSPORT\n",
      "[NB-tuned]Accuracy:0.94 [NB-tuned]Recall:0.94 [NB-tuned]Precision:0.93 [NB-tuned]F1_score:0.93\n",
      "\n",
      "BUILDINGS\n",
      "[NB-tuned]Accuracy:0.93 [NB-tuned]Recall:0.93 [NB-tuned]Precision:0.92 [NB-tuned]F1_score:0.93\n",
      "\n",
      "ELECTRICITY\n",
      "[NB-tuned]Accuracy:0.97 [NB-tuned]Recall:0.97 [NB-tuned]Precision:0.97 [NB-tuned]F1_score:0.97\n",
      "\n",
      "TOOLS\n",
      "[NB-tuned]Accuracy:0.99 [NB-tuned]Recall:0.99 [NB-tuned]Precision:0.99 [NB-tuned]F1_score:0.99\n",
      "\n",
      "HOSPITALS\n",
      "[NB-tuned]Accuracy:0.98 [NB-tuned]Recall:0.98 [NB-tuned]Precision:0.98 [NB-tuned]F1_score:0.98\n",
      "\n",
      "SHOPS\n",
      "[NB-tuned]Accuracy:0.99 [NB-tuned]Recall:0.99 [NB-tuned]Precision:0.99 [NB-tuned]F1_score:0.99\n",
      "\n",
      "AID_CENTERS\n",
      "[NB-tuned]Accuracy:0.98 [NB-tuned]Recall:0.98 [NB-tuned]Precision:0.98 [NB-tuned]F1_score:0.98\n",
      "\n",
      "OTHER_INFRASTRUCTURE\n",
      "[NB-tuned]Accuracy:0.93 [NB-tuned]Recall:0.93 [NB-tuned]Precision:0.92 [NB-tuned]F1_score:0.93\n",
      "\n",
      "WEATHER_RELATED\n",
      "[NB-tuned]Accuracy:0.82 [NB-tuned]Recall:0.82 [NB-tuned]Precision:0.83 [NB-tuned]F1_score:0.82\n",
      "\n",
      "FLOODS\n",
      "[NB-tuned]Accuracy:0.91 [NB-tuned]Recall:0.91 [NB-tuned]Precision:0.91 [NB-tuned]F1_score:0.91\n",
      "\n",
      "STORM\n",
      "[NB-tuned]Accuracy:0.90 [NB-tuned]Recall:0.90 [NB-tuned]Precision:0.91 [NB-tuned]F1_score:0.91\n",
      "\n",
      "FIRE\n",
      "[NB-tuned]Accuracy:0.98 [NB-tuned]Recall:0.98 [NB-tuned]Precision:0.98 [NB-tuned]F1_score:0.98\n",
      "\n",
      "EARTHQUAKE\n",
      "[NB-tuned]Accuracy:0.93 [NB-tuned]Recall:0.93 [NB-tuned]Precision:0.92 [NB-tuned]F1_score:0.93\n",
      "\n",
      "COLD\n",
      "[NB-tuned]Accuracy:0.97 [NB-tuned]Recall:0.97 [NB-tuned]Precision:0.97 [NB-tuned]F1_score:0.97\n",
      "\n",
      "OTHER_WEATHER\n",
      "[NB-tuned]Accuracy:0.93 [NB-tuned]Recall:0.93 [NB-tuned]Precision:0.91 [NB-tuned]F1_score:0.92\n",
      "\n",
      "DIRECT_REPORT\n",
      "[NB-tuned]Accuracy:0.82 [NB-tuned]Recall:0.82 [NB-tuned]Precision:0.83 [NB-tuned]F1_score:0.82\n",
      "\n"
     ]
    }
   ],
   "source": [
    "for i in range(len(labels)):\n",
    "    print(labels[i].upper())\n",
    "    evaluate_model(y_test[:, i],y_preds_best[:, i], 'NB-tuned')"
   ]
  },
  {
   "cell_type": "code",
   "execution_count": 244,
   "metadata": {},
   "outputs": [
    {
     "name": "stdout",
     "output_type": "stream",
     "text": [
      "RELATED\n",
      "[NBtuned-train]Accuracy:0.89 [NBtuned-train]Recall:0.89 [NBtuned-train]Precision:0.89 [NBtuned-train]F1_score:0.89\n",
      "\n",
      "REQUEST\n",
      "[NBtuned-train]Accuracy:0.88 [NBtuned-train]Recall:0.88 [NBtuned-train]Precision:0.90 [NBtuned-train]F1_score:0.89\n",
      "\n",
      "OFFER\n",
      "[NBtuned-train]Accuracy:0.98 [NBtuned-train]Recall:0.98 [NBtuned-train]Precision:0.99 [NBtuned-train]F1_score:0.99\n",
      "\n",
      "AID_RELATED\n",
      "[NBtuned-train]Accuracy:0.86 [NBtuned-train]Recall:0.86 [NBtuned-train]Precision:0.86 [NBtuned-train]F1_score:0.86\n",
      "\n",
      "MEDICAL_HELP\n",
      "[NBtuned-train]Accuracy:0.92 [NBtuned-train]Recall:0.92 [NBtuned-train]Precision:0.92 [NBtuned-train]F1_score:0.92\n",
      "\n",
      "MEDICAL_PRODUCTS\n",
      "[NBtuned-train]Accuracy:0.93 [NBtuned-train]Recall:0.93 [NBtuned-train]Precision:0.94 [NBtuned-train]F1_score:0.94\n",
      "\n",
      "SEARCH_AND_RESCUE\n",
      "[NBtuned-train]Accuracy:0.95 [NBtuned-train]Recall:0.95 [NBtuned-train]Precision:0.96 [NBtuned-train]F1_score:0.96\n",
      "\n",
      "SECURITY\n",
      "[NBtuned-train]Accuracy:0.96 [NBtuned-train]Recall:0.96 [NBtuned-train]Precision:0.97 [NBtuned-train]F1_score:0.97\n",
      "\n",
      "MILITARY\n",
      "[NBtuned-train]Accuracy:0.96 [NBtuned-train]Recall:0.96 [NBtuned-train]Precision:0.97 [NBtuned-train]F1_score:0.96\n",
      "\n",
      "WATER\n",
      "[NBtuned-train]Accuracy:0.93 [NBtuned-train]Recall:0.93 [NBtuned-train]Precision:0.94 [NBtuned-train]F1_score:0.93\n",
      "\n",
      "FOOD\n",
      "[NBtuned-train]Accuracy:0.91 [NBtuned-train]Recall:0.91 [NBtuned-train]Precision:0.92 [NBtuned-train]F1_score:0.91\n",
      "\n",
      "SHELTER\n",
      "[NBtuned-train]Accuracy:0.92 [NBtuned-train]Recall:0.92 [NBtuned-train]Precision:0.93 [NBtuned-train]F1_score:0.92\n",
      "\n",
      "CLOTHING\n",
      "[NBtuned-train]Accuracy:0.97 [NBtuned-train]Recall:0.97 [NBtuned-train]Precision:0.98 [NBtuned-train]F1_score:0.97\n",
      "\n",
      "MONEY\n",
      "[NBtuned-train]Accuracy:0.96 [NBtuned-train]Recall:0.96 [NBtuned-train]Precision:0.96 [NBtuned-train]F1_score:0.96\n",
      "\n",
      "MISSING_PEOPLE\n",
      "[NBtuned-train]Accuracy:0.97 [NBtuned-train]Recall:0.97 [NBtuned-train]Precision:0.98 [NBtuned-train]F1_score:0.97\n",
      "\n",
      "REFUGEES\n",
      "[NBtuned-train]Accuracy:0.95 [NBtuned-train]Recall:0.95 [NBtuned-train]Precision:0.95 [NBtuned-train]F1_score:0.95\n",
      "\n",
      "DEATH\n",
      "[NBtuned-train]Accuracy:0.94 [NBtuned-train]Recall:0.94 [NBtuned-train]Precision:0.95 [NBtuned-train]F1_score:0.95\n",
      "\n",
      "OTHER_AID\n",
      "[NBtuned-train]Accuracy:0.88 [NBtuned-train]Recall:0.88 [NBtuned-train]Precision:0.87 [NBtuned-train]F1_score:0.88\n",
      "\n",
      "INFRASTRUCTURE_RELATED\n",
      "[NBtuned-train]Accuracy:0.92 [NBtuned-train]Recall:0.92 [NBtuned-train]Precision:0.92 [NBtuned-train]F1_score:0.92\n",
      "\n",
      "TRANSPORT\n",
      "[NBtuned-train]Accuracy:0.94 [NBtuned-train]Recall:0.94 [NBtuned-train]Precision:0.94 [NBtuned-train]F1_score:0.94\n",
      "\n",
      "BUILDINGS\n",
      "[NBtuned-train]Accuracy:0.94 [NBtuned-train]Recall:0.94 [NBtuned-train]Precision:0.94 [NBtuned-train]F1_score:0.94\n",
      "\n",
      "ELECTRICITY\n",
      "[NBtuned-train]Accuracy:0.96 [NBtuned-train]Recall:0.96 [NBtuned-train]Precision:0.97 [NBtuned-train]F1_score:0.96\n",
      "\n",
      "TOOLS\n",
      "[NBtuned-train]Accuracy:0.98 [NBtuned-train]Recall:0.98 [NBtuned-train]Precision:0.99 [NBtuned-train]F1_score:0.98\n",
      "\n",
      "HOSPITALS\n",
      "[NBtuned-train]Accuracy:0.97 [NBtuned-train]Recall:0.97 [NBtuned-train]Precision:0.98 [NBtuned-train]F1_score:0.98\n",
      "\n",
      "SHOPS\n",
      "[NBtuned-train]Accuracy:0.98 [NBtuned-train]Recall:0.98 [NBtuned-train]Precision:0.99 [NBtuned-train]F1_score:0.98\n",
      "\n",
      "AID_CENTERS\n",
      "[NBtuned-train]Accuracy:0.97 [NBtuned-train]Recall:0.97 [NBtuned-train]Precision:0.98 [NBtuned-train]F1_score:0.97\n",
      "\n",
      "OTHER_INFRASTRUCTURE\n",
      "[NBtuned-train]Accuracy:0.93 [NBtuned-train]Recall:0.93 [NBtuned-train]Precision:0.94 [NBtuned-train]F1_score:0.93\n",
      "\n",
      "WEATHER_RELATED\n",
      "[NBtuned-train]Accuracy:0.88 [NBtuned-train]Recall:0.88 [NBtuned-train]Precision:0.88 [NBtuned-train]F1_score:0.88\n",
      "\n",
      "FLOODS\n",
      "[NBtuned-train]Accuracy:0.92 [NBtuned-train]Recall:0.92 [NBtuned-train]Precision:0.93 [NBtuned-train]F1_score:0.93\n",
      "\n",
      "STORM\n",
      "[NBtuned-train]Accuracy:0.93 [NBtuned-train]Recall:0.93 [NBtuned-train]Precision:0.94 [NBtuned-train]F1_score:0.93\n",
      "\n",
      "FIRE\n",
      "[NBtuned-train]Accuracy:0.97 [NBtuned-train]Recall:0.97 [NBtuned-train]Precision:0.98 [NBtuned-train]F1_score:0.98\n",
      "\n",
      "EARTHQUAKE\n",
      "[NBtuned-train]Accuracy:0.94 [NBtuned-train]Recall:0.94 [NBtuned-train]Precision:0.94 [NBtuned-train]F1_score:0.94\n",
      "\n",
      "COLD\n",
      "[NBtuned-train]Accuracy:0.96 [NBtuned-train]Recall:0.96 [NBtuned-train]Precision:0.97 [NBtuned-train]F1_score:0.97\n",
      "\n",
      "OTHER_WEATHER\n",
      "[NBtuned-train]Accuracy:0.93 [NBtuned-train]Recall:0.93 [NBtuned-train]Precision:0.93 [NBtuned-train]F1_score:0.93\n",
      "\n",
      "DIRECT_REPORT\n",
      "[NBtuned-train]Accuracy:0.85 [NBtuned-train]Recall:0.85 [NBtuned-train]Precision:0.87 [NBtuned-train]F1_score:0.86\n",
      "\n"
     ]
    }
   ],
   "source": [
    "for i in range(len(labels)):\n",
    "    print(labels[i].upper())\n",
    "    evaluate_model(y_train[:, i],y_preds_best_train[:, i], 'NBtuned-train')"
   ]
  },
  {
   "cell_type": "markdown",
   "metadata": {},
   "source": [
    "### 8. Try improving model further:"
   ]
  },
  {
   "cell_type": "code",
   "execution_count": 245,
   "metadata": {},
   "outputs": [
    {
     "name": "stdout",
     "output_type": "stream",
     "text": [
      "CPU times: user 1min 12s, sys: 5.58 s, total: 1min 17s\n",
      "Wall time: 1min 18s\n"
     ]
    }
   ],
   "source": [
    "%%time\n",
    "# Linear SVM\n",
    "pipeline_svm = Pipeline([\n",
    "        ('vect', CountVectorizer(tokenizer=tokenize)),\n",
    "        ('tfidf', TfidfTransformer()),\n",
    "        ('clf', MultiOutputClassifier(SGDClassifier(loss='hinge', penalty='l2'))),\n",
    " ])\n",
    "pipeline_svm.fit(X_train, y_train)"
   ]
  },
  {
   "cell_type": "code",
   "execution_count": 246,
   "metadata": {},
   "outputs": [],
   "source": [
    "y_preds_svm = pipeline_svm.predict(X_test)"
   ]
  },
  {
   "cell_type": "code",
   "execution_count": 247,
   "metadata": {},
   "outputs": [],
   "source": [
    "y_preds_svm_train = pipeline_svm.predict(X_train)"
   ]
  },
  {
   "cell_type": "code",
   "execution_count": 248,
   "metadata": {},
   "outputs": [
    {
     "name": "stdout",
     "output_type": "stream",
     "text": [
      "RELATED\n",
      "[SVM-TRAIN]Accuracy:0.89 [SVM-TRAIN]Recall:0.89 [SVM-TRAIN]Precision:0.89 [SVM-TRAIN]F1_score:0.88\n",
      "\n",
      "REQUEST\n",
      "[SVM-TRAIN]Accuracy:0.92 [SVM-TRAIN]Recall:0.92 [SVM-TRAIN]Precision:0.92 [SVM-TRAIN]F1_score:0.92\n",
      "\n",
      "OFFER\n",
      "[SVM-TRAIN]Accuracy:1.00 [SVM-TRAIN]Recall:1.00 [SVM-TRAIN]Precision:0.99 [SVM-TRAIN]F1_score:0.99\n",
      "\n",
      "AID_RELATED\n",
      "[SVM-TRAIN]Accuracy:0.85 [SVM-TRAIN]Recall:0.85 [SVM-TRAIN]Precision:0.85 [SVM-TRAIN]F1_score:0.85\n",
      "\n",
      "MEDICAL_HELP\n",
      "[SVM-TRAIN]Accuracy:0.94 [SVM-TRAIN]Recall:0.94 [SVM-TRAIN]Precision:0.93 [SVM-TRAIN]F1_score:0.92\n",
      "\n",
      "MEDICAL_PRODUCTS\n",
      "[SVM-TRAIN]Accuracy:0.96 [SVM-TRAIN]Recall:0.96 [SVM-TRAIN]Precision:0.96 [SVM-TRAIN]F1_score:0.95\n",
      "\n",
      "SEARCH_AND_RESCUE\n",
      "[SVM-TRAIN]Accuracy:0.98 [SVM-TRAIN]Recall:0.98 [SVM-TRAIN]Precision:0.97 [SVM-TRAIN]F1_score:0.97\n",
      "\n",
      "SECURITY\n",
      "[SVM-TRAIN]Accuracy:0.98 [SVM-TRAIN]Recall:0.98 [SVM-TRAIN]Precision:0.96 [SVM-TRAIN]F1_score:0.97\n",
      "\n",
      "MILITARY\n",
      "[SVM-TRAIN]Accuracy:0.98 [SVM-TRAIN]Recall:0.98 [SVM-TRAIN]Precision:0.98 [SVM-TRAIN]F1_score:0.97\n",
      "\n",
      "WATER\n",
      "[SVM-TRAIN]Accuracy:0.98 [SVM-TRAIN]Recall:0.98 [SVM-TRAIN]Precision:0.98 [SVM-TRAIN]F1_score:0.98\n",
      "\n",
      "FOOD\n",
      "[SVM-TRAIN]Accuracy:0.96 [SVM-TRAIN]Recall:0.96 [SVM-TRAIN]Precision:0.96 [SVM-TRAIN]F1_score:0.96\n",
      "\n",
      "SHELTER\n",
      "[SVM-TRAIN]Accuracy:0.95 [SVM-TRAIN]Recall:0.95 [SVM-TRAIN]Precision:0.95 [SVM-TRAIN]F1_score:0.95\n",
      "\n",
      "CLOTHING\n",
      "[SVM-TRAIN]Accuracy:0.99 [SVM-TRAIN]Recall:0.99 [SVM-TRAIN]Precision:0.99 [SVM-TRAIN]F1_score:0.99\n",
      "\n",
      "MONEY\n",
      "[SVM-TRAIN]Accuracy:0.98 [SVM-TRAIN]Recall:0.98 [SVM-TRAIN]Precision:0.98 [SVM-TRAIN]F1_score:0.97\n",
      "\n",
      "MISSING_PEOPLE\n",
      "[SVM-TRAIN]Accuracy:0.99 [SVM-TRAIN]Recall:0.99 [SVM-TRAIN]Precision:0.99 [SVM-TRAIN]F1_score:0.99\n",
      "\n",
      "REFUGEES\n",
      "[SVM-TRAIN]Accuracy:0.97 [SVM-TRAIN]Recall:0.97 [SVM-TRAIN]Precision:0.97 [SVM-TRAIN]F1_score:0.97\n",
      "\n",
      "DEATH\n",
      "[SVM-TRAIN]Accuracy:0.98 [SVM-TRAIN]Recall:0.98 [SVM-TRAIN]Precision:0.97 [SVM-TRAIN]F1_score:0.97\n",
      "\n",
      "OTHER_AID\n"
     ]
    },
    {
     "name": "stderr",
     "output_type": "stream",
     "text": [
      "/opt/conda/lib/python3.6/site-packages/sklearn/metrics/classification.py:1135: UndefinedMetricWarning:\n",
      "\n",
      "Precision is ill-defined and being set to 0.0 in labels with no predicted samples.\n",
      "\n",
      "/opt/conda/lib/python3.6/site-packages/sklearn/metrics/classification.py:1135: UndefinedMetricWarning:\n",
      "\n",
      "F-score is ill-defined and being set to 0.0 in labels with no predicted samples.\n",
      "\n"
     ]
    },
    {
     "name": "stdout",
     "output_type": "stream",
     "text": [
      "[SVM-TRAIN]Accuracy:0.87 [SVM-TRAIN]Recall:0.87 [SVM-TRAIN]Precision:0.87 [SVM-TRAIN]F1_score:0.82\n",
      "\n",
      "INFRASTRUCTURE_RELATED\n",
      "[SVM-TRAIN]Accuracy:0.94 [SVM-TRAIN]Recall:0.94 [SVM-TRAIN]Precision:0.94 [SVM-TRAIN]F1_score:0.90\n",
      "\n",
      "TRANSPORT\n",
      "[SVM-TRAIN]Accuracy:0.96 [SVM-TRAIN]Recall:0.96 [SVM-TRAIN]Precision:0.96 [SVM-TRAIN]F1_score:0.95\n",
      "\n",
      "BUILDINGS\n",
      "[SVM-TRAIN]Accuracy:0.97 [SVM-TRAIN]Recall:0.97 [SVM-TRAIN]Precision:0.96 [SVM-TRAIN]F1_score:0.96\n",
      "\n",
      "ELECTRICITY\n",
      "[SVM-TRAIN]Accuracy:0.98 [SVM-TRAIN]Recall:0.98 [SVM-TRAIN]Precision:0.98 [SVM-TRAIN]F1_score:0.97\n",
      "\n",
      "TOOLS\n",
      "[SVM-TRAIN]Accuracy:0.99 [SVM-TRAIN]Recall:0.99 [SVM-TRAIN]Precision:0.99 [SVM-TRAIN]F1_score:0.99\n",
      "\n",
      "HOSPITALS\n",
      "[SVM-TRAIN]Accuracy:0.99 [SVM-TRAIN]Recall:0.99 [SVM-TRAIN]Precision:0.98 [SVM-TRAIN]F1_score:0.98\n",
      "\n",
      "SHOPS\n",
      "[SVM-TRAIN]Accuracy:1.00 [SVM-TRAIN]Recall:1.00 [SVM-TRAIN]Precision:0.99 [SVM-TRAIN]F1_score:0.99\n",
      "\n",
      "AID_CENTERS\n",
      "[SVM-TRAIN]Accuracy:0.99 [SVM-TRAIN]Recall:0.99 [SVM-TRAIN]Precision:0.98 [SVM-TRAIN]F1_score:0.98\n",
      "\n",
      "OTHER_INFRASTRUCTURE\n",
      "[SVM-TRAIN]Accuracy:0.96 [SVM-TRAIN]Recall:0.96 [SVM-TRAIN]Precision:0.91 [SVM-TRAIN]F1_score:0.93\n",
      "\n",
      "WEATHER_RELATED\n",
      "[SVM-TRAIN]Accuracy:0.91 [SVM-TRAIN]Recall:0.91 [SVM-TRAIN]Precision:0.91 [SVM-TRAIN]F1_score:0.91\n",
      "\n",
      "FLOODS\n",
      "[SVM-TRAIN]Accuracy:0.96 [SVM-TRAIN]Recall:0.96 [SVM-TRAIN]Precision:0.96 [SVM-TRAIN]F1_score:0.95\n",
      "\n",
      "STORM\n",
      "[SVM-TRAIN]Accuracy:0.96 [SVM-TRAIN]Recall:0.96 [SVM-TRAIN]Precision:0.96 [SVM-TRAIN]F1_score:0.96\n",
      "\n",
      "FIRE\n",
      "[SVM-TRAIN]Accuracy:0.99 [SVM-TRAIN]Recall:0.99 [SVM-TRAIN]Precision:0.99 [SVM-TRAIN]F1_score:0.99\n",
      "\n",
      "EARTHQUAKE\n",
      "[SVM-TRAIN]Accuracy:0.98 [SVM-TRAIN]Recall:0.98 [SVM-TRAIN]Precision:0.98 [SVM-TRAIN]F1_score:0.98\n",
      "\n",
      "COLD\n",
      "[SVM-TRAIN]Accuracy:0.98 [SVM-TRAIN]Recall:0.98 [SVM-TRAIN]Precision:0.98 [SVM-TRAIN]F1_score:0.98\n",
      "\n",
      "OTHER_WEATHER\n",
      "[SVM-TRAIN]Accuracy:0.95 [SVM-TRAIN]Recall:0.95 [SVM-TRAIN]Precision:0.95 [SVM-TRAIN]F1_score:0.93\n",
      "\n",
      "DIRECT_REPORT\n",
      "[SVM-TRAIN]Accuracy:0.89 [SVM-TRAIN]Recall:0.89 [SVM-TRAIN]Precision:0.89 [SVM-TRAIN]F1_score:0.88\n",
      "\n"
     ]
    }
   ],
   "source": [
    "for i in range(len(labels)):\n",
    "    print(labels[i].upper())\n",
    "    evaluate_model(y_train[:, i],y_preds_svm_train[:, i], 'SVM-TRAIN')"
   ]
  },
  {
   "cell_type": "code",
   "execution_count": 249,
   "metadata": {},
   "outputs": [
    {
     "name": "stdout",
     "output_type": "stream",
     "text": [
      "RELATED\n",
      "[SVM]Accuracy:0.82 [SVM]Recall:0.82 [SVM]Precision:0.81 [SVM]F1_score:0.80\n",
      "\n",
      "REQUEST\n",
      "[SVM]Accuracy:0.91 [SVM]Recall:0.91 [SVM]Precision:0.90 [SVM]F1_score:0.90\n",
      "\n",
      "OFFER\n",
      "[SVM]Accuracy:0.99 [SVM]Recall:0.99 [SVM]Precision:0.99 [SVM]F1_score:0.99\n",
      "\n",
      "AID_RELATED\n",
      "[SVM]Accuracy:0.78 [SVM]Recall:0.78 [SVM]Precision:0.78 [SVM]F1_score:0.78\n",
      "\n",
      "MEDICAL_HELP\n",
      "[SVM]Accuracy:0.93 [SVM]Recall:0.93 [SVM]Precision:0.91 [SVM]F1_score:0.91\n",
      "\n",
      "MEDICAL_PRODUCTS\n",
      "[SVM]Accuracy:0.96 [SVM]Recall:0.96 [SVM]Precision:0.95 [SVM]F1_score:0.95\n",
      "\n",
      "SEARCH_AND_RESCUE\n",
      "[SVM]Accuracy:0.98 [SVM]Recall:0.98 [SVM]Precision:0.97 [SVM]F1_score:0.97\n",
      "\n",
      "SECURITY\n",
      "[SVM]Accuracy:0.98 [SVM]Recall:0.98 [SVM]Precision:0.97 [SVM]F1_score:0.97\n",
      "\n",
      "MILITARY\n",
      "[SVM]Accuracy:0.97 [SVM]Recall:0.97 [SVM]Precision:0.96 [SVM]F1_score:0.96\n",
      "\n",
      "WATER\n",
      "[SVM]Accuracy:0.96 [SVM]Recall:0.96 [SVM]Precision:0.96 [SVM]F1_score:0.96\n",
      "\n",
      "FOOD\n",
      "[SVM]Accuracy:0.95 [SVM]Recall:0.95 [SVM]Precision:0.95 [SVM]F1_score:0.95\n",
      "\n",
      "SHELTER\n",
      "[SVM]Accuracy:0.95 [SVM]Recall:0.95 [SVM]Precision:0.94 [SVM]F1_score:0.94\n",
      "\n",
      "CLOTHING\n",
      "[SVM]Accuracy:0.99 [SVM]Recall:0.99 [SVM]Precision:0.99 [SVM]F1_score:0.99\n",
      "\n",
      "MONEY\n",
      "[SVM]Accuracy:0.98 [SVM]Recall:0.98 [SVM]Precision:0.97 [SVM]F1_score:0.97\n",
      "\n",
      "MISSING_PEOPLE\n",
      "[SVM]Accuracy:0.99 [SVM]Recall:0.99 [SVM]Precision:0.99 [SVM]F1_score:0.99\n",
      "\n",
      "REFUGEES\n",
      "[SVM]Accuracy:0.97 [SVM]Recall:0.97 [SVM]Precision:0.97 [SVM]F1_score:0.96\n",
      "\n",
      "DEATH\n",
      "[SVM]Accuracy:0.97 [SVM]Recall:0.97 [SVM]Precision:0.97 [SVM]F1_score:0.96\n",
      "\n",
      "OTHER_AID\n",
      "[SVM]Accuracy:0.87 [SVM]Recall:0.87 [SVM]Precision:0.86 [SVM]F1_score:0.82\n",
      "\n",
      "INFRASTRUCTURE_RELATED\n",
      "[SVM]Accuracy:0.93 [SVM]Recall:0.93 [SVM]Precision:0.87 [SVM]F1_score:0.90\n",
      "\n",
      "TRANSPORT\n",
      "[SVM]Accuracy:0.96 [SVM]Recall:0.96 [SVM]Precision:0.95 [SVM]F1_score:0.94\n",
      "\n",
      "BUILDINGS\n",
      "[SVM]Accuracy:0.96 [SVM]Recall:0.96 [SVM]Precision:0.95 [SVM]F1_score:0.95\n",
      "\n",
      "ELECTRICITY\n",
      "[SVM]Accuracy:0.98 [SVM]Recall:0.98 [SVM]Precision:0.98 [SVM]F1_score:0.98\n",
      "\n",
      "TOOLS\n",
      "[SVM]Accuracy:1.00 [SVM]Recall:1.00 [SVM]Precision:0.99 [SVM]F1_score:0.99\n",
      "\n",
      "HOSPITALS\n",
      "[SVM]Accuracy:0.99 [SVM]Recall:0.99 [SVM]Precision:0.98 [SVM]F1_score:0.98\n",
      "\n",
      "SHOPS\n",
      "[SVM]Accuracy:1.00 [SVM]Recall:1.00 [SVM]Precision:0.99 [SVM]F1_score:0.99\n",
      "\n",
      "AID_CENTERS\n",
      "[SVM]Accuracy:0.99 [SVM]Recall:0.99 [SVM]Precision:0.98 [SVM]F1_score:0.98\n",
      "\n",
      "OTHER_INFRASTRUCTURE\n",
      "[SVM]Accuracy:0.96 [SVM]Recall:0.96 [SVM]Precision:0.91 [SVM]F1_score:0.93\n",
      "\n",
      "WEATHER_RELATED\n",
      "[SVM]Accuracy:0.89 [SVM]Recall:0.89 [SVM]Precision:0.89 [SVM]F1_score:0.89\n",
      "\n",
      "FLOODS\n",
      "[SVM]Accuracy:0.96 [SVM]Recall:0.96 [SVM]Precision:0.96 [SVM]F1_score:0.95\n",
      "\n",
      "STORM\n",
      "[SVM]Accuracy:0.95 [SVM]Recall:0.95 [SVM]Precision:0.94 [SVM]F1_score:0.94\n",
      "\n",
      "FIRE\n",
      "[SVM]Accuracy:0.99 [SVM]Recall:0.99 [SVM]Precision:0.99 [SVM]F1_score:0.99\n",
      "\n",
      "EARTHQUAKE\n",
      "[SVM]Accuracy:0.97 [SVM]Recall:0.97 [SVM]Precision:0.97 [SVM]F1_score:0.97\n",
      "\n",
      "COLD\n",
      "[SVM]Accuracy:0.99 [SVM]Recall:0.99 [SVM]Precision:0.98 [SVM]F1_score:0.98\n",
      "\n",
      "OTHER_WEATHER\n",
      "[SVM]Accuracy:0.95 [SVM]Recall:0.95 [SVM]Precision:0.94 [SVM]F1_score:0.92\n",
      "\n",
      "DIRECT_REPORT\n",
      "[SVM]Accuracy:0.86 [SVM]Recall:0.86 [SVM]Precision:0.85 [SVM]F1_score:0.85\n",
      "\n"
     ]
    },
    {
     "name": "stderr",
     "output_type": "stream",
     "text": [
      "/opt/conda/lib/python3.6/site-packages/sklearn/metrics/classification.py:1135: UndefinedMetricWarning:\n",
      "\n",
      "Precision is ill-defined and being set to 0.0 in labels with no predicted samples.\n",
      "\n",
      "/opt/conda/lib/python3.6/site-packages/sklearn/metrics/classification.py:1135: UndefinedMetricWarning:\n",
      "\n",
      "F-score is ill-defined and being set to 0.0 in labels with no predicted samples.\n",
      "\n"
     ]
    }
   ],
   "source": [
    "for i in range(len(labels)):\n",
    "    print(labels[i].upper())\n",
    "    evaluate_model(y_test[:, i],y_preds_svm[:, i], 'SVM')"
   ]
  },
  {
   "cell_type": "code",
   "execution_count": 62,
   "metadata": {},
   "outputs": [],
   "source": [
    "# Try tuning some parameters for SVM which performed better"
   ]
  },
  {
   "cell_type": "code",
   "execution_count": 250,
   "metadata": {},
   "outputs": [
    {
     "data": {
      "text/plain": [
       "MultiOutputClassifier(estimator=SGDClassifier(alpha=0.0001, average=False, class_weight=None, epsilon=0.1,\n",
       "       eta0=0.0, fit_intercept=True, l1_ratio=0.15,\n",
       "       learning_rate='optimal', loss='hinge', max_iter=None, n_iter=None,\n",
       "       n_jobs=1, penalty='l2', power_t=0.5, random_state=None,\n",
       "       shuffle=True, tol=None, verbose=0, warm_start=False),\n",
       "           n_jobs=1)"
      ]
     },
     "execution_count": 250,
     "metadata": {},
     "output_type": "execute_result"
    }
   ],
   "source": [
    "pipeline_svm.named_steps['clf']"
   ]
  },
  {
   "cell_type": "code",
   "execution_count": 251,
   "metadata": {},
   "outputs": [
    {
     "name": "stdout",
     "output_type": "stream",
     "text": [
      "Fitting 3 folds for each of 2 candidates, totalling 6 fits\n",
      "[CV] clf__estimator__alpha=0.001 .....................................\n"
     ]
    },
    {
     "name": "stderr",
     "output_type": "stream",
     "text": [
      "/opt/conda/lib/python3.6/site-packages/sklearn/metrics/classification.py:1135: UndefinedMetricWarning:\n",
      "\n",
      "F-score is ill-defined and being set to 0.0 in labels with no predicted samples.\n",
      "\n"
     ]
    },
    {
     "name": "stdout",
     "output_type": "stream",
     "text": [
      "[CV]  clf__estimator__alpha=0.001, score=0.4474825083154286, total= 1.3min\n",
      "[CV] clf__estimator__alpha=0.001 .....................................\n"
     ]
    },
    {
     "name": "stderr",
     "output_type": "stream",
     "text": [
      "[Parallel(n_jobs=1)]: Done   1 out of   1 | elapsed:  2.2min remaining:    0.0s\n",
      "/opt/conda/lib/python3.6/site-packages/sklearn/metrics/classification.py:1135: UndefinedMetricWarning:\n",
      "\n",
      "F-score is ill-defined and being set to 0.0 in labels with no predicted samples.\n",
      "\n"
     ]
    },
    {
     "name": "stdout",
     "output_type": "stream",
     "text": [
      "[CV]  clf__estimator__alpha=0.001, score=0.45180161041942135, total= 1.3min\n",
      "[CV] clf__estimator__alpha=0.001 .....................................\n"
     ]
    },
    {
     "name": "stderr",
     "output_type": "stream",
     "text": [
      "[Parallel(n_jobs=1)]: Done   2 out of   2 | elapsed:  4.4min remaining:    0.0s\n",
      "/opt/conda/lib/python3.6/site-packages/sklearn/metrics/classification.py:1135: UndefinedMetricWarning:\n",
      "\n",
      "F-score is ill-defined and being set to 0.0 in labels with no predicted samples.\n",
      "\n"
     ]
    },
    {
     "name": "stdout",
     "output_type": "stream",
     "text": [
      "[CV]  clf__estimator__alpha=0.001, score=0.4492263753005728, total= 1.3min\n",
      "[CV] clf__estimator__alpha=0.0001 ....................................\n"
     ]
    },
    {
     "name": "stderr",
     "output_type": "stream",
     "text": [
      "/opt/conda/lib/python3.6/site-packages/sklearn/metrics/classification.py:1135: UndefinedMetricWarning:\n",
      "\n",
      "F-score is ill-defined and being set to 0.0 in labels with no predicted samples.\n",
      "\n"
     ]
    },
    {
     "name": "stdout",
     "output_type": "stream",
     "text": [
      "[CV]  clf__estimator__alpha=0.0001, score=0.6169196250409618, total= 1.3min\n",
      "[CV] clf__estimator__alpha=0.0001 ....................................\n"
     ]
    },
    {
     "name": "stderr",
     "output_type": "stream",
     "text": [
      "/opt/conda/lib/python3.6/site-packages/sklearn/metrics/classification.py:1135: UndefinedMetricWarning:\n",
      "\n",
      "F-score is ill-defined and being set to 0.0 in labels with no predicted samples.\n",
      "\n"
     ]
    },
    {
     "name": "stdout",
     "output_type": "stream",
     "text": [
      "[CV]  clf__estimator__alpha=0.0001, score=0.6176810922056178, total= 1.3min\n",
      "[CV] clf__estimator__alpha=0.0001 ....................................\n"
     ]
    },
    {
     "name": "stderr",
     "output_type": "stream",
     "text": [
      "/opt/conda/lib/python3.6/site-packages/sklearn/metrics/classification.py:1135: UndefinedMetricWarning:\n",
      "\n",
      "F-score is ill-defined and being set to 0.0 in labels with no predicted samples.\n",
      "\n"
     ]
    },
    {
     "name": "stdout",
     "output_type": "stream",
     "text": [
      "[CV]  clf__estimator__alpha=0.0001, score=0.6184696920223226, total= 1.3min\n"
     ]
    },
    {
     "name": "stderr",
     "output_type": "stream",
     "text": [
      "[Parallel(n_jobs=1)]: Done   6 out of   6 | elapsed: 13.1min finished\n"
     ]
    },
    {
     "name": "stdout",
     "output_type": "stream",
     "text": [
      "CPU times: user 13min 13s, sys: 1min 2s, total: 14min 16s\n",
      "Wall time: 14min 22s\n"
     ]
    }
   ],
   "source": [
    "%%time\n",
    "parameters = {\n",
    "    'clf__estimator__alpha': [0.001, 0.0001],\n",
    "}\n",
    "cv = GridSearchCV(pipeline_svm, param_grid=parameters, verbose=3, scoring='f1_weighted')\n",
    "cv.fit(X_train, y_train)"
   ]
  },
  {
   "cell_type": "code",
   "execution_count": 252,
   "metadata": {},
   "outputs": [
    {
     "data": {
      "text/plain": [
       "MultiOutputClassifier(estimator=SGDClassifier(alpha=0.0001, average=False, class_weight=None, epsilon=0.1,\n",
       "       eta0=0.0, fit_intercept=True, l1_ratio=0.15,\n",
       "       learning_rate='optimal', loss='hinge', max_iter=None, n_iter=None,\n",
       "       n_jobs=1, penalty='l2', power_t=0.5, random_state=None,\n",
       "       shuffle=True, tol=None, verbose=0, warm_start=False),\n",
       "           n_jobs=1)"
      ]
     },
     "execution_count": 252,
     "metadata": {},
     "output_type": "execute_result"
    }
   ],
   "source": [
    "best_model = cv.best_estimator_.named_steps['clf']\n",
    "best_model"
   ]
  },
  {
   "cell_type": "code",
   "execution_count": 253,
   "metadata": {},
   "outputs": [
    {
     "name": "stdout",
     "output_type": "stream",
     "text": [
      "CPU times: user 1min 43s, sys: 8.26 s, total: 1min 51s\n",
      "Wall time: 1min 52s\n"
     ]
    }
   ],
   "source": [
    "%%time\n",
    "y_preds_svm_opt = cv.predict(X_test)\n",
    "y_preds_svm_train = cv.predict(X_train)"
   ]
  },
  {
   "cell_type": "code",
   "execution_count": 254,
   "metadata": {},
   "outputs": [
    {
     "name": "stdout",
     "output_type": "stream",
     "text": [
      "RELATED\n",
      "[SVM-opt]Accuracy:0.82 [SVM-opt]Recall:0.82 [SVM-opt]Precision:0.81 [SVM-opt]F1_score:0.81\n",
      "\n",
      "REQUEST\n",
      "[SVM-opt]Accuracy:0.90 [SVM-opt]Recall:0.90 [SVM-opt]Precision:0.90 [SVM-opt]F1_score:0.90\n",
      "\n",
      "OFFER\n",
      "[SVM-opt]Accuracy:0.99 [SVM-opt]Recall:0.99 [SVM-opt]Precision:0.99 [SVM-opt]F1_score:0.99\n",
      "\n",
      "AID_RELATED\n",
      "[SVM-opt]Accuracy:0.78 [SVM-opt]Recall:0.78 [SVM-opt]Precision:0.78 [SVM-opt]F1_score:0.78\n",
      "\n",
      "MEDICAL_HELP\n",
      "[SVM-opt]Accuracy:0.93 [SVM-opt]Recall:0.93 [SVM-opt]Precision:0.91 [SVM-opt]F1_score:0.91\n",
      "\n",
      "MEDICAL_PRODUCTS\n",
      "[SVM-opt]Accuracy:0.96 [SVM-opt]Recall:0.96 [SVM-opt]Precision:0.95 [SVM-opt]F1_score:0.95\n",
      "\n",
      "SEARCH_AND_RESCUE\n",
      "[SVM-opt]Accuracy:0.98 [SVM-opt]Recall:0.98 [SVM-opt]Precision:0.97 [SVM-opt]F1_score:0.97\n",
      "\n",
      "SECURITY\n",
      "[SVM-opt]Accuracy:0.98 [SVM-opt]Recall:0.98 [SVM-opt]Precision:0.97 [SVM-opt]F1_score:0.97\n",
      "\n",
      "MILITARY\n",
      "[SVM-opt]Accuracy:0.97 [SVM-opt]Recall:0.97 [SVM-opt]Precision:0.96 [SVM-opt]F1_score:0.96\n",
      "\n",
      "WATER\n",
      "[SVM-opt]Accuracy:0.96 [SVM-opt]Recall:0.96 [SVM-opt]Precision:0.96 [SVM-opt]F1_score:0.96\n",
      "\n",
      "FOOD\n",
      "[SVM-opt]Accuracy:0.95 [SVM-opt]Recall:0.95 [SVM-opt]Precision:0.95 [SVM-opt]F1_score:0.95\n",
      "\n",
      "SHELTER\n",
      "[SVM-opt]Accuracy:0.95 [SVM-opt]Recall:0.95 [SVM-opt]Precision:0.94 [SVM-opt]F1_score:0.94\n",
      "\n",
      "CLOTHING\n",
      "[SVM-opt]Accuracy:0.99 [SVM-opt]Recall:0.99 [SVM-opt]Precision:0.99 [SVM-opt]F1_score:0.99\n",
      "\n",
      "MONEY\n",
      "[SVM-opt]Accuracy:0.98 [SVM-opt]Recall:0.98 [SVM-opt]Precision:0.97 [SVM-opt]F1_score:0.97\n",
      "\n",
      "MISSING_PEOPLE\n",
      "[SVM-opt]Accuracy:0.99 [SVM-opt]Recall:0.99 [SVM-opt]Precision:0.99 [SVM-opt]F1_score:0.99\n",
      "\n",
      "REFUGEES\n",
      "[SVM-opt]Accuracy:0.97 [SVM-opt]Recall:0.97 [SVM-opt]Precision:0.97 [SVM-opt]F1_score:0.96\n",
      "\n",
      "DEATH\n",
      "[SVM-opt]Accuracy:0.97 [SVM-opt]Recall:0.97 [SVM-opt]Precision:0.97 [SVM-opt]F1_score:0.96\n",
      "\n",
      "OTHER_AID\n",
      "[SVM-opt]Accuracy:0.87 [SVM-opt]Recall:0.87 [SVM-opt]Precision:0.87 [SVM-opt]F1_score:0.82\n",
      "\n",
      "INFRASTRUCTURE_RELATED\n",
      "[SVM-opt]Accuracy:0.93 [SVM-opt]Recall:0.93 [SVM-opt]Precision:0.87 [SVM-opt]F1_score:0.90\n",
      "\n",
      "TRANSPORT\n",
      "[SVM-opt]Accuracy:0.96 [SVM-opt]Recall:0.96 [SVM-opt]Precision:0.95 [SVM-opt]F1_score:0.95\n",
      "\n",
      "BUILDINGS\n",
      "[SVM-opt]Accuracy:0.96 [SVM-opt]Recall:0.96 [SVM-opt]Precision:0.95 [SVM-opt]F1_score:0.95\n",
      "\n",
      "ELECTRICITY\n",
      "[SVM-opt]Accuracy:0.98 [SVM-opt]Recall:0.98 [SVM-opt]Precision:0.98 [SVM-opt]F1_score:0.98\n",
      "\n",
      "TOOLS\n",
      "[SVM-opt]Accuracy:1.00 [SVM-opt]Recall:1.00 [SVM-opt]Precision:0.99 [SVM-opt]F1_score:0.99\n",
      "\n",
      "HOSPITALS\n",
      "[SVM-opt]Accuracy:0.99 [SVM-opt]Recall:0.99 [SVM-opt]Precision:0.98 [SVM-opt]F1_score:0.98\n",
      "\n",
      "SHOPS\n",
      "[SVM-opt]Accuracy:1.00 [SVM-opt]Recall:1.00 [SVM-opt]Precision:0.99 [SVM-opt]F1_score:0.99\n",
      "\n",
      "AID_CENTERS\n",
      "[SVM-opt]Accuracy:0.99 [SVM-opt]Recall:0.99 [SVM-opt]Precision:0.98 [SVM-opt]F1_score:0.98\n",
      "\n",
      "OTHER_INFRASTRUCTURE\n",
      "[SVM-opt]Accuracy:0.96 [SVM-opt]Recall:0.96 [SVM-opt]Precision:0.91 [SVM-opt]F1_score:0.93\n",
      "\n",
      "WEATHER_RELATED\n",
      "[SVM-opt]Accuracy:0.89 [SVM-opt]Recall:0.89 [SVM-opt]Precision:0.89 [SVM-opt]F1_score:0.88\n",
      "\n",
      "FLOODS\n",
      "[SVM-opt]Accuracy:0.96 [SVM-opt]Recall:0.96 [SVM-opt]Precision:0.96 [SVM-opt]F1_score:0.95\n",
      "\n",
      "STORM\n",
      "[SVM-opt]Accuracy:0.95 [SVM-opt]Recall:0.95 [SVM-opt]Precision:0.94 [SVM-opt]F1_score:0.94\n",
      "\n",
      "FIRE\n",
      "[SVM-opt]Accuracy:0.99 [SVM-opt]Recall:0.99 [SVM-opt]Precision:0.99 [SVM-opt]F1_score:0.99\n",
      "\n",
      "EARTHQUAKE\n",
      "[SVM-opt]Accuracy:0.97 [SVM-opt]Recall:0.97 [SVM-opt]Precision:0.97 [SVM-opt]F1_score:0.97\n",
      "\n",
      "COLD\n",
      "[SVM-opt]Accuracy:0.99 [SVM-opt]Recall:0.99 [SVM-opt]Precision:0.98 [SVM-opt]F1_score:0.98\n",
      "\n",
      "OTHER_WEATHER\n",
      "[SVM-opt]Accuracy:0.95 [SVM-opt]Recall:0.95 [SVM-opt]Precision:0.94 [SVM-opt]F1_score:0.92\n",
      "\n",
      "DIRECT_REPORT\n",
      "[SVM-opt]Accuracy:0.86 [SVM-opt]Recall:0.86 [SVM-opt]Precision:0.85 [SVM-opt]F1_score:0.85\n",
      "\n"
     ]
    },
    {
     "name": "stderr",
     "output_type": "stream",
     "text": [
      "/opt/conda/lib/python3.6/site-packages/sklearn/metrics/classification.py:1135: UndefinedMetricWarning:\n",
      "\n",
      "Precision is ill-defined and being set to 0.0 in labels with no predicted samples.\n",
      "\n",
      "/opt/conda/lib/python3.6/site-packages/sklearn/metrics/classification.py:1135: UndefinedMetricWarning:\n",
      "\n",
      "F-score is ill-defined and being set to 0.0 in labels with no predicted samples.\n",
      "\n"
     ]
    }
   ],
   "source": [
    "for i in range(len(labels)):\n",
    "    print(labels[i].upper())\n",
    "    evaluate_model(y_test[:, i],y_preds_svm_opt[:, i], 'SVM-opt')"
   ]
  },
  {
   "cell_type": "code",
   "execution_count": 205,
   "metadata": {},
   "outputs": [
    {
     "name": "stdout",
     "output_type": "stream",
     "text": [
      "RELATED\n",
      "[SVM-opt-train]Accuracy:0.88 [SVM-opt-train]Recall:0.88 [SVM-opt-train]Precision:0.88 [SVM-opt-train]F1_score:0.87\n",
      "\n",
      "REQUEST\n",
      "[SVM-opt-train]Accuracy:0.92 [SVM-opt-train]Recall:0.92 [SVM-opt-train]Precision:0.92 [SVM-opt-train]F1_score:0.91\n",
      "\n",
      "OFFER\n",
      "[SVM-opt-train]Accuracy:1.00 [SVM-opt-train]Recall:1.00 [SVM-opt-train]Precision:0.99 [SVM-opt-train]F1_score:0.99\n",
      "\n",
      "AID_RELATED\n",
      "[SVM-opt-train]Accuracy:0.85 [SVM-opt-train]Recall:0.85 [SVM-opt-train]Precision:0.85 [SVM-opt-train]F1_score:0.85\n",
      "\n",
      "MEDICAL_HELP\n",
      "[SVM-opt-train]Accuracy:0.94 [SVM-opt-train]Recall:0.94 [SVM-opt-train]Precision:0.93 [SVM-opt-train]F1_score:0.92\n",
      "\n",
      "MEDICAL_PRODUCTS\n",
      "[SVM-opt-train]Accuracy:0.96 [SVM-opt-train]Recall:0.96 [SVM-opt-train]Precision:0.96 [SVM-opt-train]F1_score:0.95\n",
      "\n",
      "SEARCH_AND_RESCUE\n",
      "[SVM-opt-train]Accuracy:0.98 [SVM-opt-train]Recall:0.98 [SVM-opt-train]Precision:0.97 [SVM-opt-train]F1_score:0.97\n",
      "\n",
      "SECURITY\n",
      "[SVM-opt-train]Accuracy:0.98 [SVM-opt-train]Recall:0.98 [SVM-opt-train]Precision:0.96 [SVM-opt-train]F1_score:0.97\n",
      "\n",
      "MILITARY\n",
      "[SVM-opt-train]Accuracy:0.98 [SVM-opt-train]Recall:0.98 [SVM-opt-train]Precision:0.98 [SVM-opt-train]F1_score:0.97\n",
      "\n",
      "WATER\n",
      "[SVM-opt-train]Accuracy:0.98 [SVM-opt-train]Recall:0.98 [SVM-opt-train]Precision:0.98 [SVM-opt-train]F1_score:0.98\n",
      "\n",
      "FOOD\n",
      "[SVM-opt-train]Accuracy:0.96 [SVM-opt-train]Recall:0.96 [SVM-opt-train]Precision:0.96 [SVM-opt-train]F1_score:0.96\n",
      "\n",
      "SHELTER\n",
      "[SVM-opt-train]Accuracy:0.95 [SVM-opt-train]Recall:0.95 [SVM-opt-train]Precision:0.95 [SVM-opt-train]F1_score:0.95\n",
      "\n",
      "CLOTHING\n",
      "[SVM-opt-train]Accuracy:0.99 [SVM-opt-train]Recall:0.99 [SVM-opt-train]Precision:0.99 [SVM-opt-train]F1_score:0.99\n",
      "\n",
      "MONEY\n",
      "[SVM-opt-train]Accuracy:0.98 [SVM-opt-train]Recall:0.98 [SVM-opt-train]Precision:0.98 [SVM-opt-train]F1_score:0.97\n",
      "\n",
      "MISSING_PEOPLE\n",
      "[SVM-opt-train]Accuracy:0.99 [SVM-opt-train]Recall:0.99 [SVM-opt-train]Precision:0.99 [SVM-opt-train]F1_score:0.99\n",
      "\n",
      "REFUGEES\n",
      "[SVM-opt-train]Accuracy:0.97 [SVM-opt-train]Recall:0.97 [SVM-opt-train]Precision:0.97 [SVM-opt-train]F1_score:0.97\n",
      "\n",
      "DEATH\n"
     ]
    },
    {
     "name": "stderr",
     "output_type": "stream",
     "text": [
      "/opt/conda/lib/python3.6/site-packages/sklearn/metrics/classification.py:1135: UndefinedMetricWarning: Precision is ill-defined and being set to 0.0 in labels with no predicted samples.\n",
      "  'precision', 'predicted', average, warn_for)\n",
      "/opt/conda/lib/python3.6/site-packages/sklearn/metrics/classification.py:1135: UndefinedMetricWarning: F-score is ill-defined and being set to 0.0 in labels with no predicted samples.\n",
      "  'precision', 'predicted', average, warn_for)\n"
     ]
    },
    {
     "name": "stdout",
     "output_type": "stream",
     "text": [
      "[SVM-opt-train]Accuracy:0.98 [SVM-opt-train]Recall:0.98 [SVM-opt-train]Precision:0.97 [SVM-opt-train]F1_score:0.97\n",
      "\n",
      "OTHER_AID\n",
      "[SVM-opt-train]Accuracy:0.87 [SVM-opt-train]Recall:0.87 [SVM-opt-train]Precision:0.87 [SVM-opt-train]F1_score:0.82\n",
      "\n",
      "INFRASTRUCTURE_RELATED\n",
      "[SVM-opt-train]Accuracy:0.94 [SVM-opt-train]Recall:0.94 [SVM-opt-train]Precision:0.94 [SVM-opt-train]F1_score:0.90\n",
      "\n",
      "TRANSPORT\n",
      "[SVM-opt-train]Accuracy:0.96 [SVM-opt-train]Recall:0.96 [SVM-opt-train]Precision:0.96 [SVM-opt-train]F1_score:0.95\n",
      "\n",
      "BUILDINGS\n",
      "[SVM-opt-train]Accuracy:0.96 [SVM-opt-train]Recall:0.96 [SVM-opt-train]Precision:0.96 [SVM-opt-train]F1_score:0.96\n",
      "\n",
      "ELECTRICITY\n",
      "[SVM-opt-train]Accuracy:0.98 [SVM-opt-train]Recall:0.98 [SVM-opt-train]Precision:0.98 [SVM-opt-train]F1_score:0.98\n",
      "\n",
      "TOOLS\n",
      "[SVM-opt-train]Accuracy:0.99 [SVM-opt-train]Recall:0.99 [SVM-opt-train]Precision:0.99 [SVM-opt-train]F1_score:0.99\n",
      "\n",
      "HOSPITALS\n",
      "[SVM-opt-train]Accuracy:0.99 [SVM-opt-train]Recall:0.99 [SVM-opt-train]Precision:0.98 [SVM-opt-train]F1_score:0.98\n",
      "\n",
      "SHOPS\n",
      "[SVM-opt-train]Accuracy:1.00 [SVM-opt-train]Recall:1.00 [SVM-opt-train]Precision:0.99 [SVM-opt-train]F1_score:0.99\n",
      "\n",
      "AID_CENTERS\n",
      "[SVM-opt-train]Accuracy:0.99 [SVM-opt-train]Recall:0.99 [SVM-opt-train]Precision:0.98 [SVM-opt-train]F1_score:0.98\n",
      "\n",
      "OTHER_INFRASTRUCTURE\n",
      "[SVM-opt-train]Accuracy:0.96 [SVM-opt-train]Recall:0.96 [SVM-opt-train]Precision:0.91 [SVM-opt-train]F1_score:0.93\n",
      "\n",
      "WEATHER_RELATED\n",
      "[SVM-opt-train]Accuracy:0.91 [SVM-opt-train]Recall:0.91 [SVM-opt-train]Precision:0.91 [SVM-opt-train]F1_score:0.91\n",
      "\n",
      "FLOODS\n",
      "[SVM-opt-train]Accuracy:0.96 [SVM-opt-train]Recall:0.96 [SVM-opt-train]Precision:0.96 [SVM-opt-train]F1_score:0.95\n",
      "\n",
      "STORM\n",
      "[SVM-opt-train]Accuracy:0.96 [SVM-opt-train]Recall:0.96 [SVM-opt-train]Precision:0.96 [SVM-opt-train]F1_score:0.96\n",
      "\n",
      "FIRE\n",
      "[SVM-opt-train]Accuracy:0.99 [SVM-opt-train]Recall:0.99 [SVM-opt-train]Precision:0.99 [SVM-opt-train]F1_score:0.99\n",
      "\n",
      "EARTHQUAKE\n",
      "[SVM-opt-train]Accuracy:0.98 [SVM-opt-train]Recall:0.98 [SVM-opt-train]Precision:0.98 [SVM-opt-train]F1_score:0.98\n",
      "\n",
      "COLD\n",
      "[SVM-opt-train]Accuracy:0.98 [SVM-opt-train]Recall:0.98 [SVM-opt-train]Precision:0.98 [SVM-opt-train]F1_score:0.98\n",
      "\n",
      "OTHER_WEATHER\n",
      "[SVM-opt-train]Accuracy:0.95 [SVM-opt-train]Recall:0.95 [SVM-opt-train]Precision:0.95 [SVM-opt-train]F1_score:0.93\n",
      "\n",
      "DIRECT_REPORT\n",
      "[SVM-opt-train]Accuracy:0.89 [SVM-opt-train]Recall:0.89 [SVM-opt-train]Precision:0.89 [SVM-opt-train]F1_score:0.88\n",
      "\n"
     ]
    }
   ],
   "source": [
    "for i in range(len(labels)):\n",
    "    print(labels[i].upper())\n",
    "    evaluate_model(y_train[:, i],y_preds_svm_train[:, i], 'SVM-opt-train')"
   ]
  },
  {
   "cell_type": "markdown",
   "metadata": {},
   "source": [
    "### 9. Export your model as a pickle file"
   ]
  },
  {
   "cell_type": "code",
   "execution_count": 255,
   "metadata": {},
   "outputs": [],
   "source": [
    "with open('model.pkl', 'wb') as file:\n",
    "    pickle.dump(best_model, file)"
   ]
  }
 ],
 "metadata": {
  "kernelspec": {
   "display_name": "Python 3",
   "language": "python",
   "name": "python3"
  },
  "language_info": {
   "codemirror_mode": {
    "name": "ipython",
    "version": 3
   },
   "file_extension": ".py",
   "mimetype": "text/x-python",
   "name": "python",
   "nbconvert_exporter": "python",
   "pygments_lexer": "ipython3",
   "version": "3.7.3"
  }
 },
 "nbformat": 4,
 "nbformat_minor": 2
}
